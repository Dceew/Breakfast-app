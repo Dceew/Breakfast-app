{
 "cells": [
  {
   "cell_type": "code",
   "execution_count": null,
   "id": "793433e2",
   "metadata": {},
   "outputs": [],
   "source": []
  },
  {
   "cell_type": "code",
   "execution_count": 114,
   "id": "ad10fafe",
   "metadata": {},
   "outputs": [],
   "source": [
    "# foodwaste_app.py\n",
    "import streamlit as st\n",
    "import pandas as pd\n",
    "import joblib\n",
    "from datetime import datetime\n",
    "\n",
    "import warnings\n",
    "warnings.filterwarnings(\"ignore\")"
   ]
  },
  {
   "cell_type": "code",
   "execution_count": 105,
   "id": "954b56ba",
   "metadata": {},
   "outputs": [],
   "source": [
    "# Load trained model\n",
    "model = joblib.load('foodwaste_model.pkl')"
   ]
  },
  {
   "cell_type": "code",
   "execution_count": 106,
   "id": "952231f5",
   "metadata": {},
   "outputs": [
    {
     "name": "stderr",
     "output_type": "stream",
     "text": [
      "2025-04-19 09:36:37.208 Thread 'MainThread': missing ScriptRunContext! This warning can be ignored when running in bare mode.\n",
      "2025-04-19 09:36:37.209 Thread 'MainThread': missing ScriptRunContext! This warning can be ignored when running in bare mode.\n"
     ]
    },
    {
     "data": {
      "text/plain": [
       "DeltaGenerator()"
      ]
     },
     "execution_count": 106,
     "metadata": {},
     "output_type": "execute_result"
    }
   ],
   "source": [
    "# Page title\n",
    "st.title(\"Food Waste Prediction App\")"
   ]
  },
  {
   "cell_type": "code",
   "execution_count": null,
   "id": "3114b634",
   "metadata": {},
   "outputs": [],
   "source": []
  },
  {
   "cell_type": "code",
   "execution_count": 107,
   "id": "01a5ae1c",
   "metadata": {},
   "outputs": [],
   "source": [
    "menu_options = [\n",
    "    'Menu_Idaly Wada Sambhar',\n",
    "    'Menu_Masala Upit',\n",
    "    'Menu_Medu Vada Sambhar',\n",
    "    'Menu_Onion Uttapa',\n",
    "    'Menu_Poha',\n",
    "    'Menu_Poori Bhaji and Bread Omlette',\n",
    "    'Menu_Sabudana Khichdi',\n",
    "    'Menu_Tomato Uttapam',\n",
    "    'Menu_Upma'\n",
    "]"
   ]
  },
  {
   "cell_type": "code",
   "execution_count": null,
   "id": "f02fa8c6",
   "metadata": {},
   "outputs": [],
   "source": []
  },
  {
   "cell_type": "code",
   "execution_count": 108,
   "id": "6f658153",
   "metadata": {},
   "outputs": [
    {
     "name": "stderr",
     "output_type": "stream",
     "text": [
      "2025-04-19 09:36:37.246 Thread 'MainThread': missing ScriptRunContext! This warning can be ignored when running in bare mode.\n",
      "2025-04-19 09:36:37.246 Thread 'MainThread': missing ScriptRunContext! This warning can be ignored when running in bare mode.\n",
      "2025-04-19 09:36:37.252 Thread 'MainThread': missing ScriptRunContext! This warning can be ignored when running in bare mode.\n",
      "2025-04-19 09:36:37.252 Thread 'MainThread': missing ScriptRunContext! This warning can be ignored when running in bare mode.\n",
      "2025-04-19 09:36:37.254 Thread 'MainThread': missing ScriptRunContext! This warning can be ignored when running in bare mode.\n",
      "2025-04-19 09:36:37.256 Thread 'MainThread': missing ScriptRunContext! This warning can be ignored when running in bare mode.\n",
      "2025-04-19 09:36:37.258 Thread 'MainThread': missing ScriptRunContext! This warning can be ignored when running in bare mode.\n",
      "2025-04-19 09:36:37.260 Thread 'MainThread': missing ScriptRunContext! This warning can be ignored when running in bare mode.\n",
      "2025-04-19 09:36:37.260 Thread 'MainThread': missing ScriptRunContext! This warning can be ignored when running in bare mode.\n",
      "2025-04-19 09:36:37.260 Thread 'MainThread': missing ScriptRunContext! This warning can be ignored when running in bare mode.\n",
      "2025-04-19 09:36:37.262 Thread 'MainThread': missing ScriptRunContext! This warning can be ignored when running in bare mode.\n",
      "2025-04-19 09:36:37.262 Thread 'MainThread': missing ScriptRunContext! This warning can be ignored when running in bare mode.\n",
      "2025-04-19 09:36:37.262 Thread 'MainThread': missing ScriptRunContext! This warning can be ignored when running in bare mode.\n",
      "2025-04-19 09:36:37.262 Thread 'MainThread': missing ScriptRunContext! This warning can be ignored when running in bare mode.\n",
      "2025-04-19 09:36:37.266 Thread 'MainThread': missing ScriptRunContext! This warning can be ignored when running in bare mode.\n",
      "2025-04-19 09:36:37.269 Thread 'MainThread': missing ScriptRunContext! This warning can be ignored when running in bare mode.\n",
      "2025-04-19 09:36:37.269 Thread 'MainThread': missing ScriptRunContext! This warning can be ignored when running in bare mode.\n",
      "2025-04-19 09:36:37.269 Thread 'MainThread': missing ScriptRunContext! This warning can be ignored when running in bare mode.\n",
      "2025-04-19 09:36:37.269 Thread 'MainThread': missing ScriptRunContext! This warning can be ignored when running in bare mode.\n",
      "2025-04-19 09:36:37.269 Thread 'MainThread': missing ScriptRunContext! This warning can be ignored when running in bare mode.\n",
      "2025-04-19 09:36:37.269 Thread 'MainThread': missing ScriptRunContext! This warning can be ignored when running in bare mode.\n",
      "2025-04-19 09:36:37.269 Thread 'MainThread': missing ScriptRunContext! This warning can be ignored when running in bare mode.\n",
      "2025-04-19 09:36:37.269 Thread 'MainThread': missing ScriptRunContext! This warning can be ignored when running in bare mode.\n",
      "2025-04-19 09:36:37.277 Thread 'MainThread': missing ScriptRunContext! This warning can be ignored when running in bare mode.\n"
     ]
    }
   ],
   "source": [
    "day_of_week = st.selectbox(\"Select Day of the Week\", [\"Sunday\",\"Monday\", \"Tuesday\", \"Wednesday\", \"Thursday\", \"Friday\", \"Saturday\"])\n",
    "food_ordered = st.number_input(\"Enter Food Ordered (in kg)\", min_value=0.0, step=0.1)\n",
    "Headcount = st.number_input(\"Enter Estimated Headcount\", min_value=0, step=1)\n",
    "selected_menu = st.selectbox(\"Select Menu Item\", menu_options)\n",
    "menu_one_hot = {menu: 0 for menu in menu_options}\n",
    "menu_one_hot[selected_menu] = 1"
   ]
  },
  {
   "cell_type": "code",
   "execution_count": 109,
   "id": "78c23549",
   "metadata": {},
   "outputs": [],
   "source": [
    "# Preprocess input\n",
    "#day_of_week = pd.to_datetime(date_input).day_name()"
   ]
  },
  {
   "cell_type": "code",
   "execution_count": 110,
   "id": "7bcbb8ec",
   "metadata": {},
   "outputs": [],
   "source": [
    "#Optional: map menu to number like in training\n",
    "#menu_mapping = {'Menu_Idaly Wada Sambhar': 1, 'Menu_Masala Upit': 1, 'Menu_Medu Vada Sambhar': 1, 'Menu_Onion Uttapa':1, 'Menu_Poha':1,\n",
    "          #     'Menu_Poori Bhaji and Bread Omlette':1,'Menu_Sabudana Khichdi':1,'Menu_Tomato Uttapam':1,'Menu_Upma':1}\n",
    "#menu_code = menu_mapping[menu_type]"
   ]
  },
  {
   "cell_type": "code",
   "execution_count": 111,
   "id": "e2de1446",
   "metadata": {},
   "outputs": [],
   "source": [
    "# Day name to code\n",
    "day_mapping = {\n",
    "    'Sunday': 0,\n",
    "    'Monday': 1,\n",
    "    'Tuesday': 2,\n",
    "    'Wednesday': 3,\n",
    "    'Thursday': 4,\n",
    "    'Friday': 5,\n",
    "    'Saturday': 6\n",
    "}\n",
    "\n",
    "day_code = day_mapping[day_of_week]"
   ]
  },
  {
   "cell_type": "code",
   "execution_count": 112,
   "id": "b62257a8",
   "metadata": {},
   "outputs": [],
   "source": [
    "# Create input dataframe (must match training columns)\n",
    "input_data = {\n",
    "    'Days': day_code,\n",
    "    'Headcount': Headcount,\n",
    "    'FoodOrdered': food_ordered,\n",
    "    **menu_one_hot\n",
    "}\n",
    "\n",
    "input_df = pd.DataFrame([input_data])"
   ]
  },
  {
   "cell_type": "code",
   "execution_count": null,
   "id": "40b42e9d",
   "metadata": {},
   "outputs": [],
   "source": []
  },
  {
   "cell_type": "code",
   "execution_count": 113,
   "id": "04cd1a14",
   "metadata": {},
   "outputs": [
    {
     "name": "stderr",
     "output_type": "stream",
     "text": [
      "2025-04-19 09:36:37.331 Thread 'MainThread': missing ScriptRunContext! This warning can be ignored when running in bare mode.\n",
      "2025-04-19 09:36:37.335 Thread 'MainThread': missing ScriptRunContext! This warning can be ignored when running in bare mode.\n",
      "2025-04-19 09:36:37.337 Thread 'MainThread': missing ScriptRunContext! This warning can be ignored when running in bare mode.\n",
      "2025-04-19 09:36:37.339 Thread 'MainThread': missing ScriptRunContext! This warning can be ignored when running in bare mode.\n",
      "2025-04-19 09:36:37.341 Thread 'MainThread': missing ScriptRunContext! This warning can be ignored when running in bare mode.\n"
     ]
    }
   ],
   "source": [
    "# Prediction button\n",
    "if st.button(\"Predict Food Waste\"):\n",
    "    prediction = model.predict(input_df)[0]\n",
    "    print(\"Prediction:\", prediction)\n",
    "    print(\"Type:\", type(prediction))\n",
    "    st.success(f\"Estimated Unused Food Waste: {prediction[0]:.2f} units\")"
   ]
  },
  {
   "cell_type": "code",
   "execution_count": null,
   "id": "ecf48774",
   "metadata": {},
   "outputs": [],
   "source": []
  }
 ],
 "metadata": {
  "kernelspec": {
   "display_name": "Python 3 (ipykernel)",
   "language": "python",
   "name": "python3"
  },
  "language_info": {
   "codemirror_mode": {
    "name": "ipython",
    "version": 3
   },
   "file_extension": ".py",
   "mimetype": "text/x-python",
   "name": "python",
   "nbconvert_exporter": "python",
   "pygments_lexer": "ipython3",
   "version": "3.11.5"
  }
 },
 "nbformat": 4,
 "nbformat_minor": 5
}
